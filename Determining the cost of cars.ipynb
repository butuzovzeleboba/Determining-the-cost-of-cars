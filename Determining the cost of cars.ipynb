{
 "cells": [
  {
   "cell_type": "markdown",
   "metadata": {},
   "source": [
    "# Определение стоимости автомобилей"
   ]
  },
  {
   "cell_type": "markdown",
   "metadata": {},
   "source": [
    "Сервис по продаже автомобилей с пробегом «Не бит, не крашен» разрабатывает приложение для привлечения новых клиентов. В нём можно быстро узнать рыночную стоимость своего автомобиля. В вашем распоряжении исторические данные: технические характеристики, комплектации и цены автомобилей. Вам нужно построить модель для определения стоимости. \n",
    "\n",
    "Заказчику важны:\n",
    "\n",
    "- качество предсказания;\n",
    "- скорость предсказания;\n",
    "- время обучения."
   ]
  },
  {
   "cell_type": "markdown",
   "metadata": {},
   "source": [
    "## Подготовка данных"
   ]
  },
  {
   "cell_type": "markdown",
   "metadata": {},
   "source": [
    "Загрузка и подключение библиотек"
   ]
  },
  {
   "cell_type": "code",
   "execution_count": 2,
   "metadata": {},
   "outputs": [],
   "source": [
    "import pandas as pd\n",
    "import matplotlib.pyplot as plt"
   ]
  },
  {
   "cell_type": "markdown",
   "metadata": {},
   "source": [
    "Загрузка данных"
   ]
  },
  {
   "cell_type": "code",
   "execution_count": 3,
   "metadata": {},
   "outputs": [],
   "source": [
    "data=pd.read_csv('/datasets/autos.csv')"
   ]
  },
  {
   "cell_type": "markdown",
   "metadata": {},
   "source": [
    "Просмотр информации о данных"
   ]
  },
  {
   "cell_type": "code",
   "execution_count": 4,
   "metadata": {},
   "outputs": [
    {
     "name": "stdout",
     "output_type": "stream",
     "text": [
      "<class 'pandas.core.frame.DataFrame'>\n",
      "RangeIndex: 354369 entries, 0 to 354368\n",
      "Data columns (total 16 columns):\n",
      " #   Column             Non-Null Count   Dtype \n",
      "---  ------             --------------   ----- \n",
      " 0   DateCrawled        354369 non-null  object\n",
      " 1   Price              354369 non-null  int64 \n",
      " 2   VehicleType        316879 non-null  object\n",
      " 3   RegistrationYear   354369 non-null  int64 \n",
      " 4   Gearbox            334536 non-null  object\n",
      " 5   Power              354369 non-null  int64 \n",
      " 6   Model              334664 non-null  object\n",
      " 7   Kilometer          354369 non-null  int64 \n",
      " 8   RegistrationMonth  354369 non-null  int64 \n",
      " 9   FuelType           321474 non-null  object\n",
      " 10  Brand              354369 non-null  object\n",
      " 11  Repaired           283215 non-null  object\n",
      " 12  DateCreated        354369 non-null  object\n",
      " 13  NumberOfPictures   354369 non-null  int64 \n",
      " 14  PostalCode         354369 non-null  int64 \n",
      " 15  LastSeen           354369 non-null  object\n",
      "dtypes: int64(7), object(9)\n",
      "memory usage: 43.3+ MB\n"
     ]
    }
   ],
   "source": [
    "data.info()"
   ]
  },
  {
   "cell_type": "markdown",
   "metadata": {},
   "source": [
    "Вывод первыъ строчек данных"
   ]
  },
  {
   "cell_type": "code",
   "execution_count": 5,
   "metadata": {},
   "outputs": [
    {
     "data": {
      "text/html": [
       "<div>\n",
       "<style scoped>\n",
       "    .dataframe tbody tr th:only-of-type {\n",
       "        vertical-align: middle;\n",
       "    }\n",
       "\n",
       "    .dataframe tbody tr th {\n",
       "        vertical-align: top;\n",
       "    }\n",
       "\n",
       "    .dataframe thead th {\n",
       "        text-align: right;\n",
       "    }\n",
       "</style>\n",
       "<table border=\"1\" class=\"dataframe\">\n",
       "  <thead>\n",
       "    <tr style=\"text-align: right;\">\n",
       "      <th></th>\n",
       "      <th>DateCrawled</th>\n",
       "      <th>Price</th>\n",
       "      <th>VehicleType</th>\n",
       "      <th>RegistrationYear</th>\n",
       "      <th>Gearbox</th>\n",
       "      <th>Power</th>\n",
       "      <th>Model</th>\n",
       "      <th>Kilometer</th>\n",
       "      <th>RegistrationMonth</th>\n",
       "      <th>FuelType</th>\n",
       "      <th>Brand</th>\n",
       "      <th>Repaired</th>\n",
       "      <th>DateCreated</th>\n",
       "      <th>NumberOfPictures</th>\n",
       "      <th>PostalCode</th>\n",
       "      <th>LastSeen</th>\n",
       "    </tr>\n",
       "  </thead>\n",
       "  <tbody>\n",
       "    <tr>\n",
       "      <th>0</th>\n",
       "      <td>2016-03-24 11:52:17</td>\n",
       "      <td>480</td>\n",
       "      <td>NaN</td>\n",
       "      <td>1993</td>\n",
       "      <td>manual</td>\n",
       "      <td>0</td>\n",
       "      <td>golf</td>\n",
       "      <td>150000</td>\n",
       "      <td>0</td>\n",
       "      <td>petrol</td>\n",
       "      <td>volkswagen</td>\n",
       "      <td>NaN</td>\n",
       "      <td>2016-03-24 00:00:00</td>\n",
       "      <td>0</td>\n",
       "      <td>70435</td>\n",
       "      <td>2016-04-07 03:16:57</td>\n",
       "    </tr>\n",
       "    <tr>\n",
       "      <th>1</th>\n",
       "      <td>2016-03-24 10:58:45</td>\n",
       "      <td>18300</td>\n",
       "      <td>coupe</td>\n",
       "      <td>2011</td>\n",
       "      <td>manual</td>\n",
       "      <td>190</td>\n",
       "      <td>NaN</td>\n",
       "      <td>125000</td>\n",
       "      <td>5</td>\n",
       "      <td>gasoline</td>\n",
       "      <td>audi</td>\n",
       "      <td>yes</td>\n",
       "      <td>2016-03-24 00:00:00</td>\n",
       "      <td>0</td>\n",
       "      <td>66954</td>\n",
       "      <td>2016-04-07 01:46:50</td>\n",
       "    </tr>\n",
       "    <tr>\n",
       "      <th>2</th>\n",
       "      <td>2016-03-14 12:52:21</td>\n",
       "      <td>9800</td>\n",
       "      <td>suv</td>\n",
       "      <td>2004</td>\n",
       "      <td>auto</td>\n",
       "      <td>163</td>\n",
       "      <td>grand</td>\n",
       "      <td>125000</td>\n",
       "      <td>8</td>\n",
       "      <td>gasoline</td>\n",
       "      <td>jeep</td>\n",
       "      <td>NaN</td>\n",
       "      <td>2016-03-14 00:00:00</td>\n",
       "      <td>0</td>\n",
       "      <td>90480</td>\n",
       "      <td>2016-04-05 12:47:46</td>\n",
       "    </tr>\n",
       "    <tr>\n",
       "      <th>3</th>\n",
       "      <td>2016-03-17 16:54:04</td>\n",
       "      <td>1500</td>\n",
       "      <td>small</td>\n",
       "      <td>2001</td>\n",
       "      <td>manual</td>\n",
       "      <td>75</td>\n",
       "      <td>golf</td>\n",
       "      <td>150000</td>\n",
       "      <td>6</td>\n",
       "      <td>petrol</td>\n",
       "      <td>volkswagen</td>\n",
       "      <td>no</td>\n",
       "      <td>2016-03-17 00:00:00</td>\n",
       "      <td>0</td>\n",
       "      <td>91074</td>\n",
       "      <td>2016-03-17 17:40:17</td>\n",
       "    </tr>\n",
       "    <tr>\n",
       "      <th>4</th>\n",
       "      <td>2016-03-31 17:25:20</td>\n",
       "      <td>3600</td>\n",
       "      <td>small</td>\n",
       "      <td>2008</td>\n",
       "      <td>manual</td>\n",
       "      <td>69</td>\n",
       "      <td>fabia</td>\n",
       "      <td>90000</td>\n",
       "      <td>7</td>\n",
       "      <td>gasoline</td>\n",
       "      <td>skoda</td>\n",
       "      <td>no</td>\n",
       "      <td>2016-03-31 00:00:00</td>\n",
       "      <td>0</td>\n",
       "      <td>60437</td>\n",
       "      <td>2016-04-06 10:17:21</td>\n",
       "    </tr>\n",
       "  </tbody>\n",
       "</table>\n",
       "</div>"
      ],
      "text/plain": [
       "           DateCrawled  Price VehicleType  RegistrationYear Gearbox  Power  \\\n",
       "0  2016-03-24 11:52:17    480         NaN              1993  manual      0   \n",
       "1  2016-03-24 10:58:45  18300       coupe              2011  manual    190   \n",
       "2  2016-03-14 12:52:21   9800         suv              2004    auto    163   \n",
       "3  2016-03-17 16:54:04   1500       small              2001  manual     75   \n",
       "4  2016-03-31 17:25:20   3600       small              2008  manual     69   \n",
       "\n",
       "   Model  Kilometer  RegistrationMonth  FuelType       Brand Repaired  \\\n",
       "0   golf     150000                  0    petrol  volkswagen      NaN   \n",
       "1    NaN     125000                  5  gasoline        audi      yes   \n",
       "2  grand     125000                  8  gasoline        jeep      NaN   \n",
       "3   golf     150000                  6    petrol  volkswagen       no   \n",
       "4  fabia      90000                  7  gasoline       skoda       no   \n",
       "\n",
       "           DateCreated  NumberOfPictures  PostalCode             LastSeen  \n",
       "0  2016-03-24 00:00:00                 0       70435  2016-04-07 03:16:57  \n",
       "1  2016-03-24 00:00:00                 0       66954  2016-04-07 01:46:50  \n",
       "2  2016-03-14 00:00:00                 0       90480  2016-04-05 12:47:46  \n",
       "3  2016-03-17 00:00:00                 0       91074  2016-03-17 17:40:17  \n",
       "4  2016-03-31 00:00:00                 0       60437  2016-04-06 10:17:21  "
      ]
     },
     "execution_count": 5,
     "metadata": {},
     "output_type": "execute_result"
    }
   ],
   "source": [
    "data.head()"
   ]
  },
  {
   "cell_type": "markdown",
   "metadata": {},
   "source": [
    "Приведение названий столбцов к \"змеиному регистру\""
   ]
  },
  {
   "cell_type": "code",
   "execution_count": 6,
   "metadata": {},
   "outputs": [
    {
     "data": {
      "text/html": [
       "<div>\n",
       "<style scoped>\n",
       "    .dataframe tbody tr th:only-of-type {\n",
       "        vertical-align: middle;\n",
       "    }\n",
       "\n",
       "    .dataframe tbody tr th {\n",
       "        vertical-align: top;\n",
       "    }\n",
       "\n",
       "    .dataframe thead th {\n",
       "        text-align: right;\n",
       "    }\n",
       "</style>\n",
       "<table border=\"1\" class=\"dataframe\">\n",
       "  <thead>\n",
       "    <tr style=\"text-align: right;\">\n",
       "      <th></th>\n",
       "      <th>date_crawled</th>\n",
       "      <th>price</th>\n",
       "      <th>vehicle_type</th>\n",
       "      <th>registration_year</th>\n",
       "      <th>gearbox</th>\n",
       "      <th>power</th>\n",
       "      <th>model</th>\n",
       "      <th>kilometer</th>\n",
       "      <th>registration_month</th>\n",
       "      <th>fuel_type</th>\n",
       "      <th>brand</th>\n",
       "      <th>repaired</th>\n",
       "      <th>date_created</th>\n",
       "      <th>number_of_pictures</th>\n",
       "      <th>postal_code</th>\n",
       "      <th>last_seen</th>\n",
       "    </tr>\n",
       "  </thead>\n",
       "  <tbody>\n",
       "    <tr>\n",
       "      <th>0</th>\n",
       "      <td>2016-03-24 11:52:17</td>\n",
       "      <td>480</td>\n",
       "      <td>NaN</td>\n",
       "      <td>1993</td>\n",
       "      <td>manual</td>\n",
       "      <td>0</td>\n",
       "      <td>golf</td>\n",
       "      <td>150000</td>\n",
       "      <td>0</td>\n",
       "      <td>petrol</td>\n",
       "      <td>volkswagen</td>\n",
       "      <td>NaN</td>\n",
       "      <td>2016-03-24 00:00:00</td>\n",
       "      <td>0</td>\n",
       "      <td>70435</td>\n",
       "      <td>2016-04-07 03:16:57</td>\n",
       "    </tr>\n",
       "  </tbody>\n",
       "</table>\n",
       "</div>"
      ],
      "text/plain": [
       "          date_crawled  price vehicle_type  registration_year gearbox  power  \\\n",
       "0  2016-03-24 11:52:17    480          NaN               1993  manual      0   \n",
       "\n",
       "  model  kilometer  registration_month fuel_type       brand repaired  \\\n",
       "0  golf     150000                   0    petrol  volkswagen      NaN   \n",
       "\n",
       "          date_created  number_of_pictures  postal_code            last_seen  \n",
       "0  2016-03-24 00:00:00                   0        70435  2016-04-07 03:16:57  "
      ]
     },
     "execution_count": 6,
     "metadata": {},
     "output_type": "execute_result"
    }
   ],
   "source": [
    "data=data.rename(columns={'DateCrawled':'date_crawled', \n",
    "                     'Price':'price', \n",
    "                     'VehicleType':'vehicle_type', \n",
    "                     'RegistrationYear':'registration_year', \n",
    "                     'Gearbox':'gearbox', \n",
    "                     'Power':'power', \n",
    "                     'Model':'model', \n",
    "                     'Kilometer':'kilometer', \n",
    "                     'RegistrationMonth':'registration_month', \n",
    "                     'FuelType':'fuel_type', \n",
    "                     'Brand':'brand', \n",
    "                     'Repaired':'repaired', \n",
    "                     'DateCreated':'date_created', \n",
    "                     'NumberOfPictures':'number_of_pictures', \n",
    "                     'PostalCode':'postal_code', \n",
    "                     'LastSeen':'last_seen'}\n",
    "           )\n",
    "data.head(1)"
   ]
  },
  {
   "cell_type": "markdown",
   "metadata": {},
   "source": [
    "Вывод количество пропусков по столбцам"
   ]
  },
  {
   "cell_type": "code",
   "execution_count": 7,
   "metadata": {},
   "outputs": [
    {
     "name": "stdout",
     "output_type": "stream",
     "text": [
      "0 date_crawled 0\n",
      "1 price 0\n",
      "2 vehicle_type 37490\n",
      "3 registration_year 0\n",
      "4 gearbox 19833\n",
      "5 power 0\n",
      "6 model 19705\n",
      "7 kilometer 0\n",
      "8 registration_month 0\n",
      "9 fuel_type 32895\n",
      "10 brand 0\n",
      "11 repaired 71154\n",
      "12 date_created 0\n",
      "13 number_of_pictures 0\n",
      "14 postal_code 0\n",
      "15 last_seen 0\n"
     ]
    }
   ],
   "source": [
    "i=0\n",
    "for col in data.columns:\n",
    "    print(i, col, data[col].isnull().sum())\n",
    "    i+=1"
   ]
  },
  {
   "cell_type": "markdown",
   "metadata": {},
   "source": [
    "Количество дубликатов в data"
   ]
  },
  {
   "cell_type": "code",
   "execution_count": 8,
   "metadata": {},
   "outputs": [
    {
     "data": {
      "text/plain": [
       "4"
      ]
     },
     "execution_count": 8,
     "metadata": {},
     "output_type": "execute_result"
    }
   ],
   "source": [
    "data.duplicated().sum()"
   ]
  },
  {
   "cell_type": "markdown",
   "metadata": {},
   "source": [
    "Удаление дубликатов из данных"
   ]
  },
  {
   "cell_type": "code",
   "execution_count": 9,
   "metadata": {},
   "outputs": [],
   "source": [
    "data=data.drop_duplicates()"
   ]
  },
  {
   "cell_type": "markdown",
   "metadata": {},
   "source": [
    "Просмотр уникальных значений на наличие неявных дубликатов (так, по крайней мере, было задумано)"
   ]
  },
  {
   "cell_type": "code",
   "execution_count": 10,
   "metadata": {},
   "outputs": [
    {
     "name": "stdout",
     "output_type": "stream",
     "text": [
      "date_crawled ['2016-03-24 11:52:17' '2016-03-24 10:58:45' '2016-03-14 12:52:21' ...\n",
      " '2016-03-21 09:50:58' '2016-03-14 17:48:27' '2016-03-19 18:57:12']\n",
      "price [  480 18300  9800 ... 12395 18429 10985]\n",
      "vehicle_type [nan 'coupe' 'suv' 'small' 'sedan' 'convertible' 'bus' 'wagon' 'other']\n",
      "registration_year [1993 2011 2004 2001 2008 1995 1980 2014 1998 2005 1910 2016 2007 2009\n",
      " 2002 2018 1997 1990 2017 1981 2003 1994 1991 1984 2006 1999 2012 2010\n",
      " 2000 1992 2013 1996 1985 1989 2015 1982 1976 1983 1973 1111 1969 1971\n",
      " 1987 1986 1988 1970 1965 1945 1925 1974 1979 1955 1978 1972 1968 1977\n",
      " 1961 1960 1966 1975 1963 1964 5000 1954 1958 1967 1959 9999 1956 3200\n",
      " 1000 1941 8888 1500 2200 4100 1962 1929 1957 1940 3000 2066 1949 2019\n",
      " 1937 1951 1800 1953 1234 8000 5300 9000 2900 6000 5900 5911 1933 1400\n",
      " 1950 4000 1948 1952 1200 8500 1932 1255 3700 3800 4800 1942 7000 1935\n",
      " 1936 6500 1923 2290 2500 1930 1001 9450 1944 1943 1934 1938 1688 2800\n",
      " 1253 1928 1919 5555 5600 1600 2222 1039 9996 1300 8455 1931 1915 4500\n",
      " 1920 1602 7800 9229 1947 1927 7100 8200 1946 7500 3500]\n",
      "gearbox ['manual' 'auto' nan]\n",
      "power [    0   190   163    75    69   102   109    50   125   101   105   140\n",
      "   115   131    60   136   160   231    90   118   193    99   113   218\n",
      "   122   129    70   306    95    61   177    80   170    55   143    64\n",
      "   286   232   150   156    82   155    54   185    87   180    86    84\n",
      "   224   235   200   178   265    77   110   144   120   116   184   126\n",
      "   204    88   194   305   197   179   250    45   313    41   165    98\n",
      "   130   114   211    56   201   213    58   107    83   174   100   220\n",
      "    85    73   192    68    66   299    74    52   147    65   310    71\n",
      "    97   239   203     5   300   103   258   320    63    81   148    44\n",
      "   145   230   280   260   104   188   333   186   117   141    59   132\n",
      "   234   158    39    92    51   135    53   209    43   146    67   106\n",
      "   166   276   344    72   249   237   245   111   326   279    23   138\n",
      "   175    96   226    26    37   301   334   128   133   124    33   219\n",
      "   241   167    94   182   196   238  1398   228   112    48   272   139\n",
      "  1799    40   240    79   256   360   243   375   252   396   340   108\n",
      "   121   345   187   289   222   198   284   450   233   387   152   347\n",
      "   172    57   137   212   476   314    30     7    47   173   290   207\n",
      "   205   171   750    78    91    89   349   325    76   151   350   953\n",
      "    93   142   500   343   199   119   164    16   264   367   208   210\n",
      "    46   435  1001   225   127   176   161   603   307   354    35   206\n",
      "   771   355   273   223   255   123   154   149  7515  1400   268   620\n",
      "   169   400   275    34     2   242  1779   285   162   328  1753   329\n",
      "   134   420   247   168 10317   215    18   330   283    62    10   214\n",
      "   183   254    15   321   322   315   952   600   181   426   599   379\n",
      "   999    22   157    42   195   553     4   309   507   381   271   440\n",
      "   189   401  1111  2729    21   236  1240  1704   521     1  1900   270\n",
      "    24   159   292   808   515  1200   303    29    38  1993    14   216\n",
      "   610   504    49   267   331   363   261   385  1011   253   696 10520\n",
      "   376   227   311    27   217    20  1999    11  1056    25   394    12\n",
      "   298   296  1659   294   551  6920   246    17  1800  1625   368   390\n",
      "   221  1367   259   606   327  2017  1597   266   374   392     9   405\n",
      "    13   262   601   430   295     8   411   900   541  7512   382 10218\n",
      "  7544  1102   287    19   751   297  1090   457   282   602   388     6\n",
      "  1000  5411   335  1360   202  3750   805  1062  1024 11530   364  1796\n",
      "  5000   269   460  1002   288  1780 12012 17932   316  2005  1399   191\n",
      "   278  1300   380   257   449  1256   153  1653   520   560   281 12510\n",
      "     3  1500   386    32  1202  2016  1436  1405   671   274  1288  1055\n",
      " 10912 15016  6226  1115   277  1105   341  1223  2340  8404  1968   338\n",
      "   445  1920   370   517  4400 10710 10522  9010   431  1164 11509   371\n",
      "  1501   428 11635    36   304   348  1703  1910  1995   579 10000   580\n",
      "   408    31  1005   358  1403   489  5575 19211   585   960   365   353\n",
      "   490   352  1801   346   550  3199   800  7508  1312   357  1937   950\n",
      "  4700  1600  3454 19208   251   850   337   700  8011  2331  2789   487\n",
      "   519  2461  6006  3500  5815  6018  1781  1503   612  1596   229  1506\n",
      "  5809 15020  5867  2172  1598 17410  1363   584  1054   851  1339   318\n",
      "   510   525  1700    28  1151   685  6011   317   703  1771 15001   514\n",
      "   362   332   324  6045   530   425   308  6010   475   903   640  2000\n",
      "   248   651  2799 17011   505  1103  1521   351 16051   398  9000  1998\n",
      " 10311   409  1230 17019 12684  8259  1895   901  1317   871   909  2201\n",
      "  1595   776 17700 11011  1199   459  1162  1120 15033  1896   339   361\n",
      "   574  6512   454   650 13616   604   607 16312  1082   336 20000   416\n",
      "   678  6012  1401  1021  1870 13636  1250  9710   323  1158  2009   902\n",
      "  6062  1275   572   244   399  1016   743  1221  2402 16011  1362   544\n",
      "   645   907   702 12512  1986  1003  1432  9013  9011   442  1017  1394\n",
      " 15017 10910  1992   540  2018 11025  1433  1701  2792  1502  1239  1390\n",
      " 14009  1160  1351 11111  1783  9007   923  1149   754  1988   402  2004\n",
      "  5420  1793  1324   356  7511  1299   293 19312  1079  1689   998  1100\n",
      "  9012  1933   508 16311   682  1252  1922  7529   732  2389  2200  1707\n",
      "  1416  8500  1012   485  3000 10110   421  4507  1631  7518   377  1004\n",
      "  2007  2598  1548  1241]\n",
      "model ['golf' nan 'grand' 'fabia' '3er' '2_reihe' 'other' 'c_max' '3_reihe'\n",
      " 'passat' 'navara' 'ka' 'polo' 'twingo' 'a_klasse' 'scirocco' '5er'\n",
      " 'meriva' 'arosa' 'c4' 'civic' 'transporter' 'punto' 'e_klasse' 'clio'\n",
      " 'kadett' 'kangoo' 'corsa' 'one' 'fortwo' '1er' 'b_klasse' 'signum'\n",
      " 'astra' 'a8' 'jetta' 'fiesta' 'c_klasse' 'micra' 'vito' 'sprinter' '156'\n",
      " 'escort' 'forester' 'xc_reihe' 'scenic' 'a4' 'a1' 'insignia' 'combo'\n",
      " 'focus' 'tt' 'a6' 'jazz' 'omega' 'slk' '7er' '80' '147' '100' 'z_reihe'\n",
      " 'sportage' 'sorento' 'v40' 'ibiza' 'mustang' 'eos' 'touran' 'getz' 'a3'\n",
      " 'almera' 'megane' 'lupo' 'r19' 'zafira' 'caddy' 'mondeo' 'cordoba' 'colt'\n",
      " 'impreza' 'vectra' 'berlingo' 'tiguan' 'i_reihe' 'espace' 'sharan'\n",
      " '6_reihe' 'panda' 'up' 'seicento' 'ceed' '5_reihe' 'yeti' 'octavia' 'mii'\n",
      " 'rx_reihe' '6er' 'modus' 'fox' 'matiz' 'beetle' 'c1' 'rio' 'touareg'\n",
      " 'logan' 'spider' 'cuore' 's_max' 'a2' 'galaxy' 'c3' 'viano' 's_klasse'\n",
      " '1_reihe' 'avensis' 'roomster' 'sl' 'kaefer' 'santa' 'cooper' 'leon'\n",
      " '4_reihe' 'a5' '500' 'laguna' 'ptcruiser' 'clk' 'primera' 'x_reihe'\n",
      " 'exeo' '159' 'transit' 'juke' 'qashqai' 'carisma' 'accord' 'corolla'\n",
      " 'lanos' 'phaeton' 'verso' 'swift' 'rav' 'picanto' 'boxster' 'kalos'\n",
      " 'superb' 'stilo' 'alhambra' 'mx_reihe' 'roadster' 'ypsilon' 'cayenne'\n",
      " 'galant' 'justy' '90' 'sirion' 'crossfire' 'agila' 'duster' 'cr_reihe'\n",
      " 'v50' 'c_reihe' 'v_klasse' 'm_klasse' 'yaris' 'c5' 'aygo' 'cc' 'carnival'\n",
      " 'fusion' '911' 'bora' 'forfour' 'm_reihe' 'cl' 'tigra' '300c' 'spark'\n",
      " 'v70' 'kuga' 'x_type' 'ducato' 's_type' 'x_trail' 'toledo' 'altea'\n",
      " 'voyager' 'calibra' 'bravo' 'antara' 'tucson' 'citigo' 'jimny' 'wrangler'\n",
      " 'lybra' 'q7' 'lancer' 'captiva' 'c2' 'discovery' 'freelander' 'sandero'\n",
      " 'note' '900' 'cherokee' 'clubman' 'samara' 'defender' '601' 'cx_reihe'\n",
      " 'legacy' 'pajero' 'auris' 'niva' 's60' 'nubira' 'vivaro' 'g_klasse'\n",
      " 'lodgy' '850' 'range_rover' 'q3' 'serie_2' 'glk' 'charade' 'croma'\n",
      " 'outlander' 'doblo' 'musa' 'move' '9000' 'v60' '145' 'aveo' '200' 'b_max'\n",
      " 'range_rover_sport' 'terios' 'rangerover' 'q5' 'range_rover_evoque'\n",
      " 'materia' 'delta' 'gl' 'kalina' 'amarok' 'elefantino' 'i3' 'kappa'\n",
      " 'serie_3' 'serie_1']\n",
      "kilometer [150000 125000  90000  40000  30000  70000   5000 100000  60000  20000\n",
      "  80000  50000  10000]\n",
      "registration_month [ 0  5  8  6  7 10 12 11  2  3  1  4  9]\n",
      "fuel_type ['petrol' 'gasoline' nan 'lpg' 'other' 'hybrid' 'cng' 'electric']\n",
      "brand ['volkswagen' 'audi' 'jeep' 'skoda' 'bmw' 'peugeot' 'ford' 'mazda'\n",
      " 'nissan' 'renault' 'mercedes_benz' 'opel' 'seat' 'citroen' 'honda' 'fiat'\n",
      " 'mini' 'smart' 'hyundai' 'sonstige_autos' 'alfa_romeo' 'subaru' 'volvo'\n",
      " 'mitsubishi' 'kia' 'suzuki' 'lancia' 'toyota' 'chevrolet' 'dacia'\n",
      " 'daihatsu' 'trabant' 'saab' 'chrysler' 'jaguar' 'daewoo' 'porsche'\n",
      " 'rover' 'land_rover' 'lada']\n",
      "repaired [nan 'yes' 'no']\n",
      "date_created ['2016-03-24 00:00:00' '2016-03-14 00:00:00' '2016-03-17 00:00:00'\n",
      " '2016-03-31 00:00:00' '2016-04-04 00:00:00' '2016-04-01 00:00:00'\n",
      " '2016-03-21 00:00:00' '2016-03-26 00:00:00' '2016-04-07 00:00:00'\n",
      " '2016-03-15 00:00:00' '2016-03-11 00:00:00' '2016-03-20 00:00:00'\n",
      " '2016-03-23 00:00:00' '2016-03-27 00:00:00' '2016-03-12 00:00:00'\n",
      " '2016-03-13 00:00:00' '2016-03-18 00:00:00' '2016-03-10 00:00:00'\n",
      " '2016-03-07 00:00:00' '2016-03-09 00:00:00' '2016-03-08 00:00:00'\n",
      " '2016-04-03 00:00:00' '2016-03-29 00:00:00' '2016-03-25 00:00:00'\n",
      " '2016-03-28 00:00:00' '2016-03-30 00:00:00' '2016-03-22 00:00:00'\n",
      " '2016-02-09 00:00:00' '2016-03-05 00:00:00' '2016-04-02 00:00:00'\n",
      " '2016-03-16 00:00:00' '2016-03-19 00:00:00' '2016-04-05 00:00:00'\n",
      " '2016-03-06 00:00:00' '2016-02-12 00:00:00' '2016-03-03 00:00:00'\n",
      " '2016-03-01 00:00:00' '2016-03-04 00:00:00' '2016-04-06 00:00:00'\n",
      " '2016-02-15 00:00:00' '2016-02-24 00:00:00' '2016-02-27 00:00:00'\n",
      " '2015-03-20 00:00:00' '2016-02-28 00:00:00' '2016-02-17 00:00:00'\n",
      " '2016-01-27 00:00:00' '2016-02-20 00:00:00' '2016-02-29 00:00:00'\n",
      " '2016-02-10 00:00:00' '2016-02-23 00:00:00' '2016-02-21 00:00:00'\n",
      " '2015-11-02 00:00:00' '2016-02-19 00:00:00' '2016-02-26 00:00:00'\n",
      " '2016-02-11 00:00:00' '2016-01-10 00:00:00' '2016-02-06 00:00:00'\n",
      " '2016-02-18 00:00:00' '2016-01-29 00:00:00' '2016-03-02 00:00:00'\n",
      " '2015-12-06 00:00:00' '2016-01-24 00:00:00' '2016-01-30 00:00:00'\n",
      " '2016-02-02 00:00:00' '2016-02-16 00:00:00' '2016-02-13 00:00:00'\n",
      " '2016-02-05 00:00:00' '2016-02-22 00:00:00' '2015-11-17 00:00:00'\n",
      " '2014-03-10 00:00:00' '2016-02-07 00:00:00' '2016-01-23 00:00:00'\n",
      " '2016-02-25 00:00:00' '2016-02-14 00:00:00' '2016-01-02 00:00:00'\n",
      " '2015-09-04 00:00:00' '2015-11-12 00:00:00' '2015-12-27 00:00:00'\n",
      " '2015-11-24 00:00:00' '2016-01-20 00:00:00' '2016-02-03 00:00:00'\n",
      " '2015-12-05 00:00:00' '2015-08-07 00:00:00' '2016-01-28 00:00:00'\n",
      " '2016-01-31 00:00:00' '2016-02-08 00:00:00' '2016-01-07 00:00:00'\n",
      " '2016-01-22 00:00:00' '2016-01-18 00:00:00' '2016-01-08 00:00:00'\n",
      " '2015-11-23 00:00:00' '2016-01-13 00:00:00' '2016-01-17 00:00:00'\n",
      " '2016-01-15 00:00:00' '2015-11-08 00:00:00' '2016-01-26 00:00:00'\n",
      " '2016-02-04 00:00:00' '2016-01-25 00:00:00' '2016-01-16 00:00:00'\n",
      " '2015-08-10 00:00:00' '2016-01-03 00:00:00' '2016-01-19 00:00:00'\n",
      " '2015-12-30 00:00:00' '2016-02-01 00:00:00' '2015-12-17 00:00:00'\n",
      " '2015-11-10 00:00:00' '2016-01-06 00:00:00' '2015-09-09 00:00:00'\n",
      " '2015-06-18 00:00:00']\n",
      "number_of_pictures [0]\n",
      "postal_code [70435 66954 90480 ... 38528 38325 31096]\n",
      "last_seen ['2016-04-07 03:16:57' '2016-04-07 01:46:50' '2016-04-05 12:47:46' ...\n",
      " '2016-03-19 20:44:43' '2016-03-29 10:17:23' '2016-03-21 10:42:49']\n"
     ]
    }
   ],
   "source": [
    "for col in data.columns:\n",
    "    print(col, data[col].unique())"
   ]
  },
  {
   "cell_type": "markdown",
   "metadata": {},
   "source": [
    "Изменение типа данных в столбиках 'date_crawled', 'date_created', 'last_seen' на datetime64"
   ]
  },
  {
   "cell_type": "code",
   "execution_count": 11,
   "metadata": {},
   "outputs": [],
   "source": [
    "data['date_crawled']=pd.to_datetime(data['date_crawled'], format='%Y-%m-%d %H:%M:%S')\n",
    "data['date_created']=pd.to_datetime(data['date_created'], format='%Y-%m-%d %H:%M:%S')\n",
    "data['last_seen']=pd.to_datetime(data['last_seen'], format='%Y-%m-%d %H:%M:%S')"
   ]
  },
  {
   "cell_type": "markdown",
   "metadata": {},
   "source": [
    "Просмотр информации о данных после изменения типа"
   ]
  },
  {
   "cell_type": "code",
   "execution_count": 12,
   "metadata": {},
   "outputs": [
    {
     "name": "stdout",
     "output_type": "stream",
     "text": [
      "<class 'pandas.core.frame.DataFrame'>\n",
      "Int64Index: 354365 entries, 0 to 354368\n",
      "Data columns (total 16 columns):\n",
      " #   Column              Non-Null Count   Dtype         \n",
      "---  ------              --------------   -----         \n",
      " 0   date_crawled        354365 non-null  datetime64[ns]\n",
      " 1   price               354365 non-null  int64         \n",
      " 2   vehicle_type        316875 non-null  object        \n",
      " 3   registration_year   354365 non-null  int64         \n",
      " 4   gearbox             334532 non-null  object        \n",
      " 5   power               354365 non-null  int64         \n",
      " 6   model               334660 non-null  object        \n",
      " 7   kilometer           354365 non-null  int64         \n",
      " 8   registration_month  354365 non-null  int64         \n",
      " 9   fuel_type           321470 non-null  object        \n",
      " 10  brand               354365 non-null  object        \n",
      " 11  repaired            283211 non-null  object        \n",
      " 12  date_created        354365 non-null  datetime64[ns]\n",
      " 13  number_of_pictures  354365 non-null  int64         \n",
      " 14  postal_code         354365 non-null  int64         \n",
      " 15  last_seen           354365 non-null  datetime64[ns]\n",
      "dtypes: datetime64[ns](3), int64(7), object(6)\n",
      "memory usage: 46.0+ MB\n"
     ]
    }
   ],
   "source": [
    "data.info()"
   ]
  },
  {
   "cell_type": "markdown",
   "metadata": {},
   "source": [
    "Гистограмма цен на автомобили"
   ]
  },
  {
   "cell_type": "code",
   "execution_count": 13,
   "metadata": {},
   "outputs": [
    {
     "data": {
      "image/png": "[encoded data removed]",
      "text/plain": [
       "<Figure size 432x288 with 1 Axes>"
      ]
     },
     "metadata": {
      "needs_background": "light"
     },
     "output_type": "display_data"
    }
   ],
   "source": [
    "plt.hist(data['price'], bins=10, color='blue', alpha=0.7)\n",
    "plt.title('Гистограмма цен')\n",
    "plt.xlabel('Цена')\n",
    "plt.ylabel('Частота');"
   ]
  },
  {
   "cell_type": "markdown",
   "metadata": {},
   "source": [
    "График боксплот для цен на автомобиль"
   ]
  },
  {
   "cell_type": "code",
   "execution_count": 14,
   "metadata": {},
   "outputs": [
    {
     "data": {
      "image/png": "[encoded data removed]",
      "text/plain": [
       "<Figure size 432x288 with 1 Axes>"
      ]
     },
     "metadata": {
      "needs_background": "light"
     },
     "output_type": "display_data"
    }
   ],
   "source": [
    "plt.boxplot(data['price'])\n",
    "plt.title('Боксплот цен')\n",
    "plt.ylabel('Цена');"
   ]
  },
  {
   "cell_type": "markdown",
   "metadata": {},
   "source": [
    "Могу предположить, что с машинами, которые стоят до 100 евро (на данный момент 10000 руб.), что-то не так. Особенно с марками по типу Mercedes-Benz, Volkswagen, Suzuki и т.д. Думаю, эти данные можно удалить, пока это 3,8% от всех данных."
   ]
  },
  {
   "cell_type": "code",
   "execution_count": 15,
   "metadata": {},
   "outputs": [
    {
     "data": {
      "text/html": [
       "<div>\n",
       "<style scoped>\n",
       "    .dataframe tbody tr th:only-of-type {\n",
       "        vertical-align: middle;\n",
       "    }\n",
       "\n",
       "    .dataframe tbody tr th {\n",
       "        vertical-align: top;\n",
       "    }\n",
       "\n",
       "    .dataframe thead th {\n",
       "        text-align: right;\n",
       "    }\n",
       "</style>\n",
       "<table border=\"1\" class=\"dataframe\">\n",
       "  <thead>\n",
       "    <tr style=\"text-align: right;\">\n",
       "      <th></th>\n",
       "      <th>date_crawled</th>\n",
       "      <th>price</th>\n",
       "      <th>vehicle_type</th>\n",
       "      <th>registration_year</th>\n",
       "      <th>gearbox</th>\n",
       "      <th>power</th>\n",
       "      <th>model</th>\n",
       "      <th>kilometer</th>\n",
       "      <th>registration_month</th>\n",
       "      <th>fuel_type</th>\n",
       "      <th>brand</th>\n",
       "      <th>repaired</th>\n",
       "      <th>date_created</th>\n",
       "      <th>number_of_pictures</th>\n",
       "      <th>postal_code</th>\n",
       "      <th>last_seen</th>\n",
       "    </tr>\n",
       "  </thead>\n",
       "  <tbody>\n",
       "    <tr>\n",
       "      <th>7</th>\n",
       "      <td>2016-03-21 18:54:38</td>\n",
       "      <td>0</td>\n",
       "      <td>sedan</td>\n",
       "      <td>1980</td>\n",
       "      <td>manual</td>\n",
       "      <td>50</td>\n",
       "      <td>other</td>\n",
       "      <td>40000</td>\n",
       "      <td>7</td>\n",
       "      <td>petrol</td>\n",
       "      <td>volkswagen</td>\n",
       "      <td>no</td>\n",
       "      <td>2016-03-21</td>\n",
       "      <td>0</td>\n",
       "      <td>19348</td>\n",
       "      <td>2016-03-25 16:47:58</td>\n",
       "    </tr>\n",
       "    <tr>\n",
       "      <th>40</th>\n",
       "      <td>2016-03-26 22:06:17</td>\n",
       "      <td>0</td>\n",
       "      <td>NaN</td>\n",
       "      <td>1990</td>\n",
       "      <td>NaN</td>\n",
       "      <td>0</td>\n",
       "      <td>corsa</td>\n",
       "      <td>150000</td>\n",
       "      <td>1</td>\n",
       "      <td>petrol</td>\n",
       "      <td>opel</td>\n",
       "      <td>NaN</td>\n",
       "      <td>2016-03-26</td>\n",
       "      <td>0</td>\n",
       "      <td>56412</td>\n",
       "      <td>2016-03-27 17:43:34</td>\n",
       "    </tr>\n",
       "    <tr>\n",
       "      <th>59</th>\n",
       "      <td>2016-03-29 15:48:15</td>\n",
       "      <td>1</td>\n",
       "      <td>suv</td>\n",
       "      <td>1994</td>\n",
       "      <td>manual</td>\n",
       "      <td>286</td>\n",
       "      <td>NaN</td>\n",
       "      <td>150000</td>\n",
       "      <td>11</td>\n",
       "      <td>NaN</td>\n",
       "      <td>sonstige_autos</td>\n",
       "      <td>NaN</td>\n",
       "      <td>2016-03-29</td>\n",
       "      <td>0</td>\n",
       "      <td>53721</td>\n",
       "      <td>2016-04-06 01:44:38</td>\n",
       "    </tr>\n",
       "    <tr>\n",
       "      <th>89</th>\n",
       "      <td>2016-03-28 09:37:01</td>\n",
       "      <td>1</td>\n",
       "      <td>sedan</td>\n",
       "      <td>1995</td>\n",
       "      <td>manual</td>\n",
       "      <td>113</td>\n",
       "      <td>e_klasse</td>\n",
       "      <td>150000</td>\n",
       "      <td>4</td>\n",
       "      <td>gasoline</td>\n",
       "      <td>mercedes_benz</td>\n",
       "      <td>no</td>\n",
       "      <td>2016-03-28</td>\n",
       "      <td>0</td>\n",
       "      <td>40589</td>\n",
       "      <td>2016-04-06 12:15:54</td>\n",
       "    </tr>\n",
       "    <tr>\n",
       "      <th>111</th>\n",
       "      <td>2016-03-19 18:40:12</td>\n",
       "      <td>0</td>\n",
       "      <td>NaN</td>\n",
       "      <td>2017</td>\n",
       "      <td>manual</td>\n",
       "      <td>0</td>\n",
       "      <td>golf</td>\n",
       "      <td>5000</td>\n",
       "      <td>12</td>\n",
       "      <td>petrol</td>\n",
       "      <td>volkswagen</td>\n",
       "      <td>NaN</td>\n",
       "      <td>2016-03-19</td>\n",
       "      <td>0</td>\n",
       "      <td>21698</td>\n",
       "      <td>2016-04-01 08:47:05</td>\n",
       "    </tr>\n",
       "    <tr>\n",
       "      <th>...</th>\n",
       "      <td>...</td>\n",
       "      <td>...</td>\n",
       "      <td>...</td>\n",
       "      <td>...</td>\n",
       "      <td>...</td>\n",
       "      <td>...</td>\n",
       "      <td>...</td>\n",
       "      <td>...</td>\n",
       "      <td>...</td>\n",
       "      <td>...</td>\n",
       "      <td>...</td>\n",
       "      <td>...</td>\n",
       "      <td>...</td>\n",
       "      <td>...</td>\n",
       "      <td>...</td>\n",
       "      <td>...</td>\n",
       "    </tr>\n",
       "    <tr>\n",
       "      <th>354238</th>\n",
       "      <td>2016-03-20 14:55:07</td>\n",
       "      <td>0</td>\n",
       "      <td>small</td>\n",
       "      <td>2002</td>\n",
       "      <td>manual</td>\n",
       "      <td>60</td>\n",
       "      <td>fiesta</td>\n",
       "      <td>150000</td>\n",
       "      <td>3</td>\n",
       "      <td>petrol</td>\n",
       "      <td>ford</td>\n",
       "      <td>NaN</td>\n",
       "      <td>2016-03-20</td>\n",
       "      <td>0</td>\n",
       "      <td>33659</td>\n",
       "      <td>2016-04-06 18:45:23</td>\n",
       "    </tr>\n",
       "    <tr>\n",
       "      <th>354248</th>\n",
       "      <td>2016-03-24 13:48:05</td>\n",
       "      <td>0</td>\n",
       "      <td>small</td>\n",
       "      <td>1999</td>\n",
       "      <td>manual</td>\n",
       "      <td>53</td>\n",
       "      <td>swift</td>\n",
       "      <td>150000</td>\n",
       "      <td>3</td>\n",
       "      <td>petrol</td>\n",
       "      <td>suzuki</td>\n",
       "      <td>NaN</td>\n",
       "      <td>2016-03-24</td>\n",
       "      <td>0</td>\n",
       "      <td>42329</td>\n",
       "      <td>2016-04-07 05:17:24</td>\n",
       "    </tr>\n",
       "    <tr>\n",
       "      <th>354277</th>\n",
       "      <td>2016-03-10 22:55:50</td>\n",
       "      <td>0</td>\n",
       "      <td>small</td>\n",
       "      <td>1999</td>\n",
       "      <td>manual</td>\n",
       "      <td>37</td>\n",
       "      <td>arosa</td>\n",
       "      <td>150000</td>\n",
       "      <td>7</td>\n",
       "      <td>petrol</td>\n",
       "      <td>seat</td>\n",
       "      <td>yes</td>\n",
       "      <td>2016-03-10</td>\n",
       "      <td>0</td>\n",
       "      <td>22559</td>\n",
       "      <td>2016-03-12 23:46:32</td>\n",
       "    </tr>\n",
       "    <tr>\n",
       "      <th>354309</th>\n",
       "      <td>2016-03-09 22:37:41</td>\n",
       "      <td>99</td>\n",
       "      <td>small</td>\n",
       "      <td>1999</td>\n",
       "      <td>manual</td>\n",
       "      <td>60</td>\n",
       "      <td>arosa</td>\n",
       "      <td>150000</td>\n",
       "      <td>1</td>\n",
       "      <td>petrol</td>\n",
       "      <td>seat</td>\n",
       "      <td>yes</td>\n",
       "      <td>2016-03-09</td>\n",
       "      <td>0</td>\n",
       "      <td>91301</td>\n",
       "      <td>2016-04-06 22:15:32</td>\n",
       "    </tr>\n",
       "    <tr>\n",
       "      <th>354364</th>\n",
       "      <td>2016-03-21 09:50:58</td>\n",
       "      <td>0</td>\n",
       "      <td>NaN</td>\n",
       "      <td>2005</td>\n",
       "      <td>manual</td>\n",
       "      <td>0</td>\n",
       "      <td>colt</td>\n",
       "      <td>150000</td>\n",
       "      <td>7</td>\n",
       "      <td>petrol</td>\n",
       "      <td>mitsubishi</td>\n",
       "      <td>yes</td>\n",
       "      <td>2016-03-21</td>\n",
       "      <td>0</td>\n",
       "      <td>2694</td>\n",
       "      <td>2016-03-21 10:42:49</td>\n",
       "    </tr>\n",
       "  </tbody>\n",
       "</table>\n",
       "<p>13314 rows × 16 columns</p>\n",
       "</div>"
      ],
      "text/plain": [
       "              date_crawled  price vehicle_type  registration_year gearbox  \\\n",
       "7      2016-03-21 18:54:38      0        sedan               1980  manual   \n",
       "40     2016-03-26 22:06:17      0          NaN               1990     NaN   \n",
       "59     2016-03-29 15:48:15      1          suv               1994  manual   \n",
       "89     2016-03-28 09:37:01      1        sedan               1995  manual   \n",
       "111    2016-03-19 18:40:12      0          NaN               2017  manual   \n",
       "...                    ...    ...          ...                ...     ...   \n",
       "354238 2016-03-20 14:55:07      0        small               2002  manual   \n",
       "354248 2016-03-24 13:48:05      0        small               1999  manual   \n",
       "354277 2016-03-10 22:55:50      0        small               1999  manual   \n",
       "354309 2016-03-09 22:37:41     99        small               1999  manual   \n",
       "354364 2016-03-21 09:50:58      0          NaN               2005  manual   \n",
       "\n",
       "        power     model  kilometer  registration_month fuel_type  \\\n",
       "7          50     other      40000                   7    petrol   \n",
       "40          0     corsa     150000                   1    petrol   \n",
       "59        286       NaN     150000                  11       NaN   \n",
       "89        113  e_klasse     150000                   4  gasoline   \n",
       "111         0      golf       5000                  12    petrol   \n",
       "...       ...       ...        ...                 ...       ...   \n",
       "354238     60    fiesta     150000                   3    petrol   \n",
       "354248     53     swift     150000                   3    petrol   \n",
       "354277     37     arosa     150000                   7    petrol   \n",
       "354309     60     arosa     150000                   1    petrol   \n",
       "354364      0      colt     150000                   7    petrol   \n",
       "\n",
       "                 brand repaired date_created  number_of_pictures  postal_code  \\\n",
       "7           volkswagen       no   2016-03-21                   0        19348   \n",
       "40                opel      NaN   2016-03-26                   0        56412   \n",
       "59      sonstige_autos      NaN   2016-03-29                   0        53721   \n",
       "89       mercedes_benz       no   2016-03-28                   0        40589   \n",
       "111         volkswagen      NaN   2016-03-19                   0        21698   \n",
       "...                ...      ...          ...                 ...          ...   \n",
       "354238            ford      NaN   2016-03-20                   0        33659   \n",
       "354248          suzuki      NaN   2016-03-24                   0        42329   \n",
       "354277            seat      yes   2016-03-10                   0        22559   \n",
       "354309            seat      yes   2016-03-09                   0        91301   \n",
       "354364      mitsubishi      yes   2016-03-21                   0         2694   \n",
       "\n",
       "                 last_seen  \n",
       "7      2016-03-25 16:47:58  \n",
       "40     2016-03-27 17:43:34  \n",
       "59     2016-04-06 01:44:38  \n",
       "89     2016-04-06 12:15:54  \n",
       "111    2016-04-01 08:47:05  \n",
       "...                    ...  \n",
       "354238 2016-04-06 18:45:23  \n",
       "354248 2016-04-07 05:17:24  \n",
       "354277 2016-03-12 23:46:32  \n",
       "354309 2016-04-06 22:15:32  \n",
       "354364 2016-03-21 10:42:49  \n",
       "\n",
       "[13314 rows x 16 columns]"
      ]
     },
     "execution_count": 15,
     "metadata": {},
     "output_type": "execute_result"
    }
   ],
   "source": [
    "data.loc[data['price']<100]"
   ]
  },
  {
   "cell_type": "markdown",
   "metadata": {},
   "source": [
    "Удаление информации о машинах стоимость меньше 100"
   ]
  },
  {
   "cell_type": "code",
   "execution_count": 16,
   "metadata": {},
   "outputs": [],
   "source": [
    "data = data[data['price'] >= 100]"
   ]
  },
  {
   "cell_type": "markdown",
   "metadata": {},
   "source": [
    "Заполнение пропусков в столбце vehicle_type на Unknown и вывод информации"
   ]
  },
  {
   "cell_type": "code",
   "execution_count": 17,
   "metadata": {},
   "outputs": [
    {
     "name": "stdout",
     "output_type": "stream",
     "text": [
      "<class 'pandas.core.frame.DataFrame'>\n",
      "Int64Index: 341051 entries, 0 to 354368\n",
      "Data columns (total 16 columns):\n",
      " #   Column              Non-Null Count   Dtype         \n",
      "---  ------              --------------   -----         \n",
      " 0   date_crawled        341051 non-null  datetime64[ns]\n",
      " 1   price               341051 non-null  int64         \n",
      " 2   vehicle_type        341051 non-null  object        \n",
      " 3   registration_year   341051 non-null  int64         \n",
      " 4   gearbox             324737 non-null  object        \n",
      " 5   power               341051 non-null  int64         \n",
      " 6   model               324018 non-null  object        \n",
      " 7   kilometer           341051 non-null  int64         \n",
      " 8   registration_month  341051 non-null  int64         \n",
      " 9   fuel_type           312702 non-null  object        \n",
      " 10  brand               341051 non-null  object        \n",
      " 11  repaired            276694 non-null  object        \n",
      " 12  date_created        341051 non-null  datetime64[ns]\n",
      " 13  number_of_pictures  341051 non-null  int64         \n",
      " 14  postal_code         341051 non-null  int64         \n",
      " 15  last_seen           341051 non-null  datetime64[ns]\n",
      "dtypes: datetime64[ns](3), int64(7), object(6)\n",
      "memory usage: 44.2+ MB\n"
     ]
    }
   ],
   "source": [
    "data['vehicle_type'].fillna('Unknown', inplace=True)\n",
    "data['vehicle_type'].isnull().sum()\n",
    "data.info()"
   ]
  },
  {
   "cell_type": "markdown",
   "metadata": {},
   "source": [
    "<br/>    \n",
    "<div class=\"alert alert-info\">\n",
    "<h2> Комментарий студента: <a class=\"tocSkip\"> </h2>\n",
    "\n",
    "<b>👋:</b> Не очень понимаю как год регистрации может быть в промежутке от 1000 до 9999\n",
    "</div> "
   ]
  },
  {
   "cell_type": "markdown",
   "metadata": {},
   "source": [
    "Просмотр уникальных значений в солбце registration_year"
   ]
  },
  {
   "cell_type": "code",
   "execution_count": 18,
   "metadata": {},
   "outputs": [
    {
     "data": {
      "text/plain": [
       "[1000,\n",
       " 1001,\n",
       " 1039,\n",
       " 1111,\n",
       " 1234,\n",
       " 1255,\n",
       " 1300,\n",
       " 1400,\n",
       " 1500,\n",
       " 1600,\n",
       " 1602,\n",
       " 1800,\n",
       " 1910,\n",
       " 1923,\n",
       " 1925,\n",
       " 1927,\n",
       " 1928,\n",
       " 1929,\n",
       " 1930,\n",
       " 1931,\n",
       " 1932,\n",
       " 1933,\n",
       " 1934,\n",
       " 1935,\n",
       " 1936,\n",
       " 1937,\n",
       " 1938,\n",
       " 1940,\n",
       " 1941,\n",
       " 1942,\n",
       " 1943,\n",
       " 1944,\n",
       " 1945,\n",
       " 1946,\n",
       " 1947,\n",
       " 1948,\n",
       " 1949,\n",
       " 1950,\n",
       " 1951,\n",
       " 1952,\n",
       " 1953,\n",
       " 1954,\n",
       " 1955,\n",
       " 1956,\n",
       " 1957,\n",
       " 1958,\n",
       " 1959,\n",
       " 1960,\n",
       " 1961,\n",
       " 1962,\n",
       " 1963,\n",
       " 1964,\n",
       " 1965,\n",
       " 1966,\n",
       " 1967,\n",
       " 1968,\n",
       " 1969,\n",
       " 1970,\n",
       " 1971,\n",
       " 1972,\n",
       " 1973,\n",
       " 1974,\n",
       " 1975,\n",
       " 1976,\n",
       " 1977,\n",
       " 1978,\n",
       " 1979,\n",
       " 1980,\n",
       " 1981,\n",
       " 1982,\n",
       " 1983,\n",
       " 1984,\n",
       " 1985,\n",
       " 1986,\n",
       " 1987,\n",
       " 1988,\n",
       " 1989,\n",
       " 1990,\n",
       " 1991,\n",
       " 1992,\n",
       " 1993,\n",
       " 1994,\n",
       " 1995,\n",
       " 1996,\n",
       " 1997,\n",
       " 1998,\n",
       " 1999,\n",
       " 2000,\n",
       " 2001,\n",
       " 2002,\n",
       " 2003,\n",
       " 2004,\n",
       " 2005,\n",
       " 2006,\n",
       " 2007,\n",
       " 2008,\n",
       " 2009,\n",
       " 2010,\n",
       " 2011,\n",
       " 2012,\n",
       " 2013,\n",
       " 2014,\n",
       " 2015,\n",
       " 2016,\n",
       " 2017,\n",
       " 2018,\n",
       " 2019,\n",
       " 2066,\n",
       " 2200,\n",
       " 2222,\n",
       " 2290,\n",
       " 2500,\n",
       " 2800,\n",
       " 2900,\n",
       " 3000,\n",
       " 3200,\n",
       " 3700,\n",
       " 3800,\n",
       " 4000,\n",
       " 4100,\n",
       " 4500,\n",
       " 4800,\n",
       " 5000,\n",
       " 5300,\n",
       " 5555,\n",
       " 5600,\n",
       " 5900,\n",
       " 5911,\n",
       " 6000,\n",
       " 7000,\n",
       " 7100,\n",
       " 7800,\n",
       " 8200,\n",
       " 8500,\n",
       " 8888,\n",
       " 9000,\n",
       " 9450,\n",
       " 9999]"
      ]
     },
     "execution_count": 18,
     "metadata": {},
     "output_type": "execute_result"
    }
   ],
   "source": [
    "sorted(data['registration_year'].unique())"
   ]
  },
  {
   "cell_type": "markdown",
   "metadata": {},
   "source": [
    "Это я пытался понять почему год регистрации находится в данном диапазоне"
   ]
  },
  {
   "cell_type": "code",
   "execution_count": 19,
   "metadata": {},
   "outputs": [
    {
     "data": {
      "text/html": [
       "<div>\n",
       "<style scoped>\n",
       "    .dataframe tbody tr th:only-of-type {\n",
       "        vertical-align: middle;\n",
       "    }\n",
       "\n",
       "    .dataframe tbody tr th {\n",
       "        vertical-align: top;\n",
       "    }\n",
       "\n",
       "    .dataframe thead th {\n",
       "        text-align: right;\n",
       "    }\n",
       "</style>\n",
       "<table border=\"1\" class=\"dataframe\">\n",
       "  <thead>\n",
       "    <tr style=\"text-align: right;\">\n",
       "      <th></th>\n",
       "      <th>date_crawled</th>\n",
       "      <th>price</th>\n",
       "      <th>vehicle_type</th>\n",
       "      <th>registration_year</th>\n",
       "      <th>gearbox</th>\n",
       "      <th>power</th>\n",
       "      <th>model</th>\n",
       "      <th>kilometer</th>\n",
       "      <th>registration_month</th>\n",
       "      <th>fuel_type</th>\n",
       "      <th>brand</th>\n",
       "      <th>repaired</th>\n",
       "      <th>date_created</th>\n",
       "      <th>number_of_pictures</th>\n",
       "      <th>postal_code</th>\n",
       "      <th>last_seen</th>\n",
       "    </tr>\n",
       "  </thead>\n",
       "  <tbody>\n",
       "    <tr>\n",
       "      <th>17271</th>\n",
       "      <td>2016-03-23 16:43:29</td>\n",
       "      <td>700</td>\n",
       "      <td>Unknown</td>\n",
       "      <td>9999</td>\n",
       "      <td>NaN</td>\n",
       "      <td>0</td>\n",
       "      <td>other</td>\n",
       "      <td>10000</td>\n",
       "      <td>0</td>\n",
       "      <td>NaN</td>\n",
       "      <td>opel</td>\n",
       "      <td>NaN</td>\n",
       "      <td>2016-03-23</td>\n",
       "      <td>0</td>\n",
       "      <td>21769</td>\n",
       "      <td>2016-04-05 20:16:15</td>\n",
       "    </tr>\n",
       "    <tr>\n",
       "      <th>28390</th>\n",
       "      <td>2016-04-05 08:57:08</td>\n",
       "      <td>799</td>\n",
       "      <td>Unknown</td>\n",
       "      <td>9999</td>\n",
       "      <td>NaN</td>\n",
       "      <td>0</td>\n",
       "      <td>3er</td>\n",
       "      <td>10000</td>\n",
       "      <td>4</td>\n",
       "      <td>petrol</td>\n",
       "      <td>bmw</td>\n",
       "      <td>NaN</td>\n",
       "      <td>2016-04-05</td>\n",
       "      <td>0</td>\n",
       "      <td>72116</td>\n",
       "      <td>2016-04-07 12:17:50</td>\n",
       "    </tr>\n",
       "    <tr>\n",
       "      <th>28965</th>\n",
       "      <td>2016-04-04 22:54:47</td>\n",
       "      <td>18000</td>\n",
       "      <td>Unknown</td>\n",
       "      <td>9999</td>\n",
       "      <td>NaN</td>\n",
       "      <td>0</td>\n",
       "      <td>a_klasse</td>\n",
       "      <td>10000</td>\n",
       "      <td>0</td>\n",
       "      <td>petrol</td>\n",
       "      <td>mercedes_benz</td>\n",
       "      <td>NaN</td>\n",
       "      <td>2016-04-04</td>\n",
       "      <td>0</td>\n",
       "      <td>51379</td>\n",
       "      <td>2016-04-07 02:44:52</td>\n",
       "    </tr>\n",
       "    <tr>\n",
       "      <th>29426</th>\n",
       "      <td>2016-03-23 21:52:25</td>\n",
       "      <td>7999</td>\n",
       "      <td>Unknown</td>\n",
       "      <td>9999</td>\n",
       "      <td>NaN</td>\n",
       "      <td>0</td>\n",
       "      <td>kaefer</td>\n",
       "      <td>10000</td>\n",
       "      <td>0</td>\n",
       "      <td>NaN</td>\n",
       "      <td>volkswagen</td>\n",
       "      <td>NaN</td>\n",
       "      <td>2016-03-23</td>\n",
       "      <td>0</td>\n",
       "      <td>47638</td>\n",
       "      <td>2016-04-06 03:46:40</td>\n",
       "    </tr>\n",
       "    <tr>\n",
       "      <th>128677</th>\n",
       "      <td>2016-03-14 14:51:56</td>\n",
       "      <td>1550</td>\n",
       "      <td>Unknown</td>\n",
       "      <td>9999</td>\n",
       "      <td>NaN</td>\n",
       "      <td>95</td>\n",
       "      <td>NaN</td>\n",
       "      <td>10000</td>\n",
       "      <td>0</td>\n",
       "      <td>NaN</td>\n",
       "      <td>volkswagen</td>\n",
       "      <td>NaN</td>\n",
       "      <td>2016-03-14</td>\n",
       "      <td>0</td>\n",
       "      <td>35288</td>\n",
       "      <td>2016-03-16 04:48:21</td>\n",
       "    </tr>\n",
       "    <tr>\n",
       "      <th>149151</th>\n",
       "      <td>2016-04-02 18:57:33</td>\n",
       "      <td>400</td>\n",
       "      <td>Unknown</td>\n",
       "      <td>9999</td>\n",
       "      <td>NaN</td>\n",
       "      <td>0</td>\n",
       "      <td>NaN</td>\n",
       "      <td>10000</td>\n",
       "      <td>0</td>\n",
       "      <td>NaN</td>\n",
       "      <td>sonstige_autos</td>\n",
       "      <td>NaN</td>\n",
       "      <td>2016-04-02</td>\n",
       "      <td>0</td>\n",
       "      <td>26441</td>\n",
       "      <td>2016-04-02 18:57:33</td>\n",
       "    </tr>\n",
       "    <tr>\n",
       "      <th>167937</th>\n",
       "      <td>2016-03-23 13:49:51</td>\n",
       "      <td>1000</td>\n",
       "      <td>Unknown</td>\n",
       "      <td>9999</td>\n",
       "      <td>NaN</td>\n",
       "      <td>0</td>\n",
       "      <td>NaN</td>\n",
       "      <td>10000</td>\n",
       "      <td>0</td>\n",
       "      <td>NaN</td>\n",
       "      <td>mazda</td>\n",
       "      <td>NaN</td>\n",
       "      <td>2016-03-23</td>\n",
       "      <td>0</td>\n",
       "      <td>40822</td>\n",
       "      <td>2016-03-23 13:49:51</td>\n",
       "    </tr>\n",
       "    <tr>\n",
       "      <th>200525</th>\n",
       "      <td>2016-03-22 15:56:52</td>\n",
       "      <td>850</td>\n",
       "      <td>Unknown</td>\n",
       "      <td>9999</td>\n",
       "      <td>NaN</td>\n",
       "      <td>0</td>\n",
       "      <td>NaN</td>\n",
       "      <td>10000</td>\n",
       "      <td>0</td>\n",
       "      <td>NaN</td>\n",
       "      <td>mazda</td>\n",
       "      <td>NaN</td>\n",
       "      <td>2016-03-22</td>\n",
       "      <td>0</td>\n",
       "      <td>40822</td>\n",
       "      <td>2016-03-22 15:56:52</td>\n",
       "    </tr>\n",
       "    <tr>\n",
       "      <th>217111</th>\n",
       "      <td>2016-03-26 13:55:09</td>\n",
       "      <td>850</td>\n",
       "      <td>Unknown</td>\n",
       "      <td>9999</td>\n",
       "      <td>NaN</td>\n",
       "      <td>0</td>\n",
       "      <td>3er</td>\n",
       "      <td>10000</td>\n",
       "      <td>0</td>\n",
       "      <td>NaN</td>\n",
       "      <td>bmw</td>\n",
       "      <td>no</td>\n",
       "      <td>2016-03-26</td>\n",
       "      <td>0</td>\n",
       "      <td>77746</td>\n",
       "      <td>2016-03-31 09:15:47</td>\n",
       "    </tr>\n",
       "    <tr>\n",
       "      <th>227462</th>\n",
       "      <td>2016-03-14 12:51:55</td>\n",
       "      <td>2850</td>\n",
       "      <td>Unknown</td>\n",
       "      <td>9999</td>\n",
       "      <td>NaN</td>\n",
       "      <td>0</td>\n",
       "      <td>other</td>\n",
       "      <td>10000</td>\n",
       "      <td>0</td>\n",
       "      <td>NaN</td>\n",
       "      <td>fiat</td>\n",
       "      <td>NaN</td>\n",
       "      <td>2016-03-14</td>\n",
       "      <td>0</td>\n",
       "      <td>17335</td>\n",
       "      <td>2016-04-05 13:15:26</td>\n",
       "    </tr>\n",
       "    <tr>\n",
       "      <th>268091</th>\n",
       "      <td>2016-03-31 00:56:44</td>\n",
       "      <td>150</td>\n",
       "      <td>Unknown</td>\n",
       "      <td>9999</td>\n",
       "      <td>NaN</td>\n",
       "      <td>0</td>\n",
       "      <td>NaN</td>\n",
       "      <td>10000</td>\n",
       "      <td>0</td>\n",
       "      <td>NaN</td>\n",
       "      <td>sonstige_autos</td>\n",
       "      <td>NaN</td>\n",
       "      <td>2016-03-30</td>\n",
       "      <td>0</td>\n",
       "      <td>28870</td>\n",
       "      <td>2016-04-02 03:15:54</td>\n",
       "    </tr>\n",
       "    <tr>\n",
       "      <th>301279</th>\n",
       "      <td>2016-03-20 15:06:24</td>\n",
       "      <td>19000</td>\n",
       "      <td>Unknown</td>\n",
       "      <td>9999</td>\n",
       "      <td>NaN</td>\n",
       "      <td>0</td>\n",
       "      <td>transporter</td>\n",
       "      <td>10000</td>\n",
       "      <td>0</td>\n",
       "      <td>NaN</td>\n",
       "      <td>volkswagen</td>\n",
       "      <td>NaN</td>\n",
       "      <td>2016-03-20</td>\n",
       "      <td>0</td>\n",
       "      <td>60439</td>\n",
       "      <td>2016-04-07 00:44:47</td>\n",
       "    </tr>\n",
       "    <tr>\n",
       "      <th>306578</th>\n",
       "      <td>2016-03-22 15:50:24</td>\n",
       "      <td>350</td>\n",
       "      <td>Unknown</td>\n",
       "      <td>9999</td>\n",
       "      <td>NaN</td>\n",
       "      <td>0</td>\n",
       "      <td>kaefer</td>\n",
       "      <td>10000</td>\n",
       "      <td>1</td>\n",
       "      <td>NaN</td>\n",
       "      <td>volkswagen</td>\n",
       "      <td>NaN</td>\n",
       "      <td>2016-03-22</td>\n",
       "      <td>0</td>\n",
       "      <td>27432</td>\n",
       "      <td>2016-04-06 05:45:40</td>\n",
       "    </tr>\n",
       "  </tbody>\n",
       "</table>\n",
       "</div>"
      ],
      "text/plain": [
       "              date_crawled  price vehicle_type  registration_year gearbox  \\\n",
       "17271  2016-03-23 16:43:29    700      Unknown               9999     NaN   \n",
       "28390  2016-04-05 08:57:08    799      Unknown               9999     NaN   \n",
       "28965  2016-04-04 22:54:47  18000      Unknown               9999     NaN   \n",
       "29426  2016-03-23 21:52:25   7999      Unknown               9999     NaN   \n",
       "128677 2016-03-14 14:51:56   1550      Unknown               9999     NaN   \n",
       "149151 2016-04-02 18:57:33    400      Unknown               9999     NaN   \n",
       "167937 2016-03-23 13:49:51   1000      Unknown               9999     NaN   \n",
       "200525 2016-03-22 15:56:52    850      Unknown               9999     NaN   \n",
       "217111 2016-03-26 13:55:09    850      Unknown               9999     NaN   \n",
       "227462 2016-03-14 12:51:55   2850      Unknown               9999     NaN   \n",
       "268091 2016-03-31 00:56:44    150      Unknown               9999     NaN   \n",
       "301279 2016-03-20 15:06:24  19000      Unknown               9999     NaN   \n",
       "306578 2016-03-22 15:50:24    350      Unknown               9999     NaN   \n",
       "\n",
       "        power        model  kilometer  registration_month fuel_type  \\\n",
       "17271       0        other      10000                   0       NaN   \n",
       "28390       0          3er      10000                   4    petrol   \n",
       "28965       0     a_klasse      10000                   0    petrol   \n",
       "29426       0       kaefer      10000                   0       NaN   \n",
       "128677     95          NaN      10000                   0       NaN   \n",
       "149151      0          NaN      10000                   0       NaN   \n",
       "167937      0          NaN      10000                   0       NaN   \n",
       "200525      0          NaN      10000                   0       NaN   \n",
       "217111      0          3er      10000                   0       NaN   \n",
       "227462      0        other      10000                   0       NaN   \n",
       "268091      0          NaN      10000                   0       NaN   \n",
       "301279      0  transporter      10000                   0       NaN   \n",
       "306578      0       kaefer      10000                   1       NaN   \n",
       "\n",
       "                 brand repaired date_created  number_of_pictures  postal_code  \\\n",
       "17271             opel      NaN   2016-03-23                   0        21769   \n",
       "28390              bmw      NaN   2016-04-05                   0        72116   \n",
       "28965    mercedes_benz      NaN   2016-04-04                   0        51379   \n",
       "29426       volkswagen      NaN   2016-03-23                   0        47638   \n",
       "128677      volkswagen      NaN   2016-03-14                   0        35288   \n",
       "149151  sonstige_autos      NaN   2016-04-02                   0        26441   \n",
       "167937           mazda      NaN   2016-03-23                   0        40822   \n",
       "200525           mazda      NaN   2016-03-22                   0        40822   \n",
       "217111             bmw       no   2016-03-26                   0        77746   \n",
       "227462            fiat      NaN   2016-03-14                   0        17335   \n",
       "268091  sonstige_autos      NaN   2016-03-30                   0        28870   \n",
       "301279      volkswagen      NaN   2016-03-20                   0        60439   \n",
       "306578      volkswagen      NaN   2016-03-22                   0        27432   \n",
       "\n",
       "                 last_seen  \n",
       "17271  2016-04-05 20:16:15  \n",
       "28390  2016-04-07 12:17:50  \n",
       "28965  2016-04-07 02:44:52  \n",
       "29426  2016-04-06 03:46:40  \n",
       "128677 2016-03-16 04:48:21  \n",
       "149151 2016-04-02 18:57:33  \n",
       "167937 2016-03-23 13:49:51  \n",
       "200525 2016-03-22 15:56:52  \n",
       "217111 2016-03-31 09:15:47  \n",
       "227462 2016-04-05 13:15:26  \n",
       "268091 2016-04-02 03:15:54  \n",
       "301279 2016-04-07 00:44:47  \n",
       "306578 2016-04-06 05:45:40  "
      ]
     },
     "execution_count": 19,
     "metadata": {},
     "output_type": "execute_result"
    }
   ],
   "source": [
    "data.loc[data['registration_year']==1000]\n",
    "data.loc[data['registration_year']==9999]"
   ]
  },
  {
   "cell_type": "markdown",
   "metadata": {},
   "source": [
    "Оставлю это нетронутым"
   ]
  },
  {
   "cell_type": "markdown",
   "metadata": {},
   "source": [
    "Вывод строк из столбика gearbox в которых есть пропуски"
   ]
  },
  {
   "cell_type": "code",
   "execution_count": 36,
   "metadata": {},
   "outputs": [
    {
     "data": {
      "text/html": [
       "<div>\n",
       "<style scoped>\n",
       "    .dataframe tbody tr th:only-of-type {\n",
       "        vertical-align: middle;\n",
       "    }\n",
       "\n",
       "    .dataframe tbody tr th {\n",
       "        vertical-align: top;\n",
       "    }\n",
       "\n",
       "    .dataframe thead th {\n",
       "        text-align: right;\n",
       "    }\n",
       "</style>\n",
       "<table border=\"1\" class=\"dataframe\">\n",
       "  <thead>\n",
       "    <tr style=\"text-align: right;\">\n",
       "      <th></th>\n",
       "      <th>date_crawled</th>\n",
       "      <th>price</th>\n",
       "      <th>vehicle_type</th>\n",
       "      <th>registration_year</th>\n",
       "      <th>gearbox</th>\n",
       "      <th>power</th>\n",
       "      <th>model</th>\n",
       "      <th>kilometer</th>\n",
       "      <th>registration_month</th>\n",
       "      <th>fuel_type</th>\n",
       "      <th>brand</th>\n",
       "      <th>repaired</th>\n",
       "      <th>date_created</th>\n",
       "      <th>number_of_pictures</th>\n",
       "      <th>postal_code</th>\n",
       "      <th>last_seen</th>\n",
       "    </tr>\n",
       "  </thead>\n",
       "  <tbody>\n",
       "    <tr>\n",
       "      <th>15</th>\n",
       "      <td>2016-03-11 21:39:15</td>\n",
       "      <td>450</td>\n",
       "      <td>small</td>\n",
       "      <td>1910</td>\n",
       "      <td>NaN</td>\n",
       "      <td>0</td>\n",
       "      <td>ka</td>\n",
       "      <td>5000</td>\n",
       "      <td>0</td>\n",
       "      <td>petrol</td>\n",
       "      <td>ford</td>\n",
       "      <td>NaN</td>\n",
       "      <td>2016-03-11</td>\n",
       "      <td>0</td>\n",
       "      <td>24148</td>\n",
       "      <td>2016-03-19 08:46:47</td>\n",
       "    </tr>\n",
       "    <tr>\n",
       "      <th>16</th>\n",
       "      <td>2016-04-01 12:46:46</td>\n",
       "      <td>300</td>\n",
       "      <td>Unknown</td>\n",
       "      <td>2016</td>\n",
       "      <td>NaN</td>\n",
       "      <td>60</td>\n",
       "      <td>polo</td>\n",
       "      <td>150000</td>\n",
       "      <td>0</td>\n",
       "      <td>petrol</td>\n",
       "      <td>volkswagen</td>\n",
       "      <td>NaN</td>\n",
       "      <td>2016-04-01</td>\n",
       "      <td>0</td>\n",
       "      <td>38871</td>\n",
       "      <td>2016-04-01 12:46:46</td>\n",
       "    </tr>\n",
       "    <tr>\n",
       "      <th>32</th>\n",
       "      <td>2016-03-15 20:59:01</td>\n",
       "      <td>245</td>\n",
       "      <td>sedan</td>\n",
       "      <td>1994</td>\n",
       "      <td>NaN</td>\n",
       "      <td>0</td>\n",
       "      <td>golf</td>\n",
       "      <td>150000</td>\n",
       "      <td>2</td>\n",
       "      <td>petrol</td>\n",
       "      <td>volkswagen</td>\n",
       "      <td>no</td>\n",
       "      <td>2016-03-15</td>\n",
       "      <td>0</td>\n",
       "      <td>44145</td>\n",
       "      <td>2016-03-17 18:17:43</td>\n",
       "    </tr>\n",
       "    <tr>\n",
       "      <th>37</th>\n",
       "      <td>2016-03-28 17:50:15</td>\n",
       "      <td>1500</td>\n",
       "      <td>Unknown</td>\n",
       "      <td>2016</td>\n",
       "      <td>NaN</td>\n",
       "      <td>0</td>\n",
       "      <td>kangoo</td>\n",
       "      <td>150000</td>\n",
       "      <td>1</td>\n",
       "      <td>gasoline</td>\n",
       "      <td>renault</td>\n",
       "      <td>no</td>\n",
       "      <td>2016-03-28</td>\n",
       "      <td>0</td>\n",
       "      <td>46483</td>\n",
       "      <td>2016-03-30 09:18:02</td>\n",
       "    </tr>\n",
       "    <tr>\n",
       "      <th>69</th>\n",
       "      <td>2016-04-01 11:56:40</td>\n",
       "      <td>1200</td>\n",
       "      <td>coupe</td>\n",
       "      <td>2001</td>\n",
       "      <td>NaN</td>\n",
       "      <td>0</td>\n",
       "      <td>astra</td>\n",
       "      <td>150000</td>\n",
       "      <td>0</td>\n",
       "      <td>NaN</td>\n",
       "      <td>opel</td>\n",
       "      <td>NaN</td>\n",
       "      <td>2016-04-01</td>\n",
       "      <td>0</td>\n",
       "      <td>47249</td>\n",
       "      <td>2016-04-07 08:46:07</td>\n",
       "    </tr>\n",
       "    <tr>\n",
       "      <th>...</th>\n",
       "      <td>...</td>\n",
       "      <td>...</td>\n",
       "      <td>...</td>\n",
       "      <td>...</td>\n",
       "      <td>...</td>\n",
       "      <td>...</td>\n",
       "      <td>...</td>\n",
       "      <td>...</td>\n",
       "      <td>...</td>\n",
       "      <td>...</td>\n",
       "      <td>...</td>\n",
       "      <td>...</td>\n",
       "      <td>...</td>\n",
       "      <td>...</td>\n",
       "      <td>...</td>\n",
       "      <td>...</td>\n",
       "    </tr>\n",
       "    <tr>\n",
       "      <th>354288</th>\n",
       "      <td>2016-03-16 13:36:25</td>\n",
       "      <td>3300</td>\n",
       "      <td>wagon</td>\n",
       "      <td>2006</td>\n",
       "      <td>NaN</td>\n",
       "      <td>0</td>\n",
       "      <td>touran</td>\n",
       "      <td>150000</td>\n",
       "      <td>7</td>\n",
       "      <td>gasoline</td>\n",
       "      <td>volkswagen</td>\n",
       "      <td>NaN</td>\n",
       "      <td>2016-03-16</td>\n",
       "      <td>0</td>\n",
       "      <td>12057</td>\n",
       "      <td>2016-03-17 12:17:07</td>\n",
       "    </tr>\n",
       "    <tr>\n",
       "      <th>354305</th>\n",
       "      <td>2016-04-03 13:46:24</td>\n",
       "      <td>3500</td>\n",
       "      <td>Unknown</td>\n",
       "      <td>1995</td>\n",
       "      <td>NaN</td>\n",
       "      <td>0</td>\n",
       "      <td>polo</td>\n",
       "      <td>150000</td>\n",
       "      <td>0</td>\n",
       "      <td>NaN</td>\n",
       "      <td>volkswagen</td>\n",
       "      <td>NaN</td>\n",
       "      <td>2016-04-03</td>\n",
       "      <td>0</td>\n",
       "      <td>74579</td>\n",
       "      <td>2016-04-05 12:44:38</td>\n",
       "    </tr>\n",
       "    <tr>\n",
       "      <th>354329</th>\n",
       "      <td>2016-03-30 20:55:30</td>\n",
       "      <td>350</td>\n",
       "      <td>small</td>\n",
       "      <td>1996</td>\n",
       "      <td>NaN</td>\n",
       "      <td>65</td>\n",
       "      <td>punto</td>\n",
       "      <td>150000</td>\n",
       "      <td>0</td>\n",
       "      <td>NaN</td>\n",
       "      <td>fiat</td>\n",
       "      <td>NaN</td>\n",
       "      <td>2016-03-30</td>\n",
       "      <td>0</td>\n",
       "      <td>25436</td>\n",
       "      <td>2016-04-07 13:50:41</td>\n",
       "    </tr>\n",
       "    <tr>\n",
       "      <th>354338</th>\n",
       "      <td>2016-03-31 19:52:33</td>\n",
       "      <td>180</td>\n",
       "      <td>Unknown</td>\n",
       "      <td>1995</td>\n",
       "      <td>NaN</td>\n",
       "      <td>0</td>\n",
       "      <td>NaN</td>\n",
       "      <td>125000</td>\n",
       "      <td>3</td>\n",
       "      <td>petrol</td>\n",
       "      <td>opel</td>\n",
       "      <td>NaN</td>\n",
       "      <td>2016-03-31</td>\n",
       "      <td>0</td>\n",
       "      <td>41470</td>\n",
       "      <td>2016-04-06 14:18:04</td>\n",
       "    </tr>\n",
       "    <tr>\n",
       "      <th>354365</th>\n",
       "      <td>2016-03-14 17:48:27</td>\n",
       "      <td>2200</td>\n",
       "      <td>Unknown</td>\n",
       "      <td>2005</td>\n",
       "      <td>NaN</td>\n",
       "      <td>0</td>\n",
       "      <td>NaN</td>\n",
       "      <td>20000</td>\n",
       "      <td>1</td>\n",
       "      <td>NaN</td>\n",
       "      <td>sonstige_autos</td>\n",
       "      <td>NaN</td>\n",
       "      <td>2016-03-14</td>\n",
       "      <td>0</td>\n",
       "      <td>39576</td>\n",
       "      <td>2016-04-06 00:46:52</td>\n",
       "    </tr>\n",
       "  </tbody>\n",
       "</table>\n",
       "<p>16314 rows × 16 columns</p>\n",
       "</div>"
      ],
      "text/plain": [
       "              date_crawled  price vehicle_type  registration_year gearbox  \\\n",
       "15     2016-03-11 21:39:15    450        small               1910     NaN   \n",
       "16     2016-04-01 12:46:46    300      Unknown               2016     NaN   \n",
       "32     2016-03-15 20:59:01    245        sedan               1994     NaN   \n",
       "37     2016-03-28 17:50:15   1500      Unknown               2016     NaN   \n",
       "69     2016-04-01 11:56:40   1200        coupe               2001     NaN   \n",
       "...                    ...    ...          ...                ...     ...   \n",
       "354288 2016-03-16 13:36:25   3300        wagon               2006     NaN   \n",
       "354305 2016-04-03 13:46:24   3500      Unknown               1995     NaN   \n",
       "354329 2016-03-30 20:55:30    350        small               1996     NaN   \n",
       "354338 2016-03-31 19:52:33    180      Unknown               1995     NaN   \n",
       "354365 2016-03-14 17:48:27   2200      Unknown               2005     NaN   \n",
       "\n",
       "        power   model  kilometer  registration_month fuel_type  \\\n",
       "15          0      ka       5000                   0    petrol   \n",
       "16         60    polo     150000                   0    petrol   \n",
       "32          0    golf     150000                   2    petrol   \n",
       "37          0  kangoo     150000                   1  gasoline   \n",
       "69          0   astra     150000                   0       NaN   \n",
       "...       ...     ...        ...                 ...       ...   \n",
       "354288      0  touran     150000                   7  gasoline   \n",
       "354305      0    polo     150000                   0       NaN   \n",
       "354329     65   punto     150000                   0       NaN   \n",
       "354338      0     NaN     125000                   3    petrol   \n",
       "354365      0     NaN      20000                   1       NaN   \n",
       "\n",
       "                 brand repaired date_created  number_of_pictures  postal_code  \\\n",
       "15                ford      NaN   2016-03-11                   0        24148   \n",
       "16          volkswagen      NaN   2016-04-01                   0        38871   \n",
       "32          volkswagen       no   2016-03-15                   0        44145   \n",
       "37             renault       no   2016-03-28                   0        46483   \n",
       "69                opel      NaN   2016-04-01                   0        47249   \n",
       "...                ...      ...          ...                 ...          ...   \n",
       "354288      volkswagen      NaN   2016-03-16                   0        12057   \n",
       "354305      volkswagen      NaN   2016-04-03                   0        74579   \n",
       "354329            fiat      NaN   2016-03-30                   0        25436   \n",
       "354338            opel      NaN   2016-03-31                   0        41470   \n",
       "354365  sonstige_autos      NaN   2016-03-14                   0        39576   \n",
       "\n",
       "                 last_seen  \n",
       "15     2016-03-19 08:46:47  \n",
       "16     2016-04-01 12:46:46  \n",
       "32     2016-03-17 18:17:43  \n",
       "37     2016-03-30 09:18:02  \n",
       "69     2016-04-07 08:46:07  \n",
       "...                    ...  \n",
       "354288 2016-03-17 12:17:07  \n",
       "354305 2016-04-05 12:44:38  \n",
       "354329 2016-04-07 13:50:41  \n",
       "354338 2016-04-06 14:18:04  \n",
       "354365 2016-04-06 00:46:52  \n",
       "\n",
       "[16314 rows x 16 columns]"
      ]
     },
     "execution_count": 36,
     "metadata": {},
     "output_type": "execute_result"
    }
   ],
   "source": [
    "data.loc[data['gearbox'].isna()]"
   ]
  },
  {
   "cell_type": "markdown",
   "metadata": {},
   "source": [
    "Поиск колонок которые совпадают пропусками с gearbox. Если совпадений будет много значит строчки можно будет удалить."
   ]
  },
  {
   "cell_type": "code",
   "execution_count": 33,
   "metadata": {},
   "outputs": [
    {
     "name": "stdout",
     "output_type": "stream",
     "text": [
      "Количество совпадающих пропусков со столбцом: 'date_crawled': 0\n",
      "Количество совпадающих пропусков со столбцом: 'price': 0\n",
      "Количество совпадающих пропусков со столбцом: 'vehicle_type': 0\n",
      "Количество совпадающих пропусков со столбцом: 'registration_year': 0\n",
      "Количество совпадающих пропусков со столбцом: 'power': 0\n",
      "Количество совпадающих пропусков со столбцом: 'model': 2762\n",
      "Количество совпадающих пропусков со столбцом: 'kilometer': 0\n",
      "Количество совпадающих пропусков со столбцом: 'registration_month': 0\n",
      "Количество совпадающих пропусков со столбцом: 'fuel_type': 6274\n",
      "Количество совпадающих пропусков со столбцом: 'brand': 0\n",
      "Количество совпадающих пропусков со столбцом: 'repaired': 9718\n",
      "Количество совпадающих пропусков со столбцом: 'date_created': 0\n",
      "Количество совпадающих пропусков со столбцом: 'number_of_pictures': 0\n",
      "Количество совпадающих пропусков со столбцом: 'postal_code': 0\n",
      "Количество совпадающих пропусков со столбцом: 'last_seen': 0\n"
     ]
    }
   ],
   "source": [
    "for col in data.columns:\n",
    "    if col != 'gearbox':\n",
    "        count = data.loc[data['gearbox'].isna() & data[col].isna()].shape[0]\n",
    "        print(f\"Количество совпадающих пропусков со столбцом: '{col}': {count}\")"
   ]
  },
  {
   "cell_type": "markdown",
   "metadata": {},
   "source": [
    "## Обучение моделей"
   ]
  },
  {
   "cell_type": "code",
   "execution_count": null,
   "metadata": {},
   "outputs": [],
   "source": []
  },
  {
   "cell_type": "markdown",
   "metadata": {},
   "source": [
    "## Анализ моделей"
   ]
  },
  {
   "cell_type": "code",
   "execution_count": null,
   "metadata": {},
   "outputs": [],
   "source": []
  },
  {
   "cell_type": "markdown",
   "metadata": {},
   "source": [
    "## Чек-лист проверки"
   ]
  },
  {
   "cell_type": "markdown",
   "metadata": {},
   "source": [
    "Поставьте 'x' в выполненных пунктах. Далее нажмите Shift+Enter."
   ]
  },
  {
   "cell_type": "markdown",
   "metadata": {},
   "source": [
    "- [x]  Jupyter Notebook открыт\n",
    "- [ ]  Весь код выполняется без ошибок\n",
    "- [ ]  Ячейки с кодом расположены в порядке исполнения\n",
    "- [ ]  Выполнена загрузка и подготовка данных\n",
    "- [ ]  Выполнено обучение моделей\n",
    "- [ ]  Есть анализ скорости работы и качества моделей"
   ]
  },
  {
   "cell_type": "code",
   "execution_count": null,
   "metadata": {},
   "outputs": [],
   "source": []
  }
 ],
 "metadata": {
  "ExecuteTimeLog": [
   {
    "duration": 414,
    "start_time": "2024-09-01T14:35:29.917Z"
   },
   {
    "duration": 64,
    "start_time": "2024-09-01T14:35:56.291Z"
   },
   {
    "duration": 1194,
    "start_time": "2024-09-01T14:36:17.811Z"
   },
   {
    "duration": 1067,
    "start_time": "2024-09-01T14:36:29.524Z"
   },
   {
    "duration": 13,
    "start_time": "2024-09-01T14:37:05.663Z"
   },
   {
    "duration": 22,
    "start_time": "2024-09-01T14:40:45.722Z"
   },
   {
    "duration": 20,
    "start_time": "2024-09-01T14:41:04.383Z"
   },
   {
    "duration": 18,
    "start_time": "2024-09-01T14:42:29.689Z"
   },
   {
    "duration": 19,
    "start_time": "2024-09-01T14:45:54.676Z"
   },
   {
    "duration": 72,
    "start_time": "2024-09-01T14:49:13.295Z"
   },
   {
    "duration": 147,
    "start_time": "2024-09-01T14:49:21.243Z"
   },
   {
    "duration": 147,
    "start_time": "2024-09-01T14:49:30.286Z"
   },
   {
    "duration": 164,
    "start_time": "2024-09-01T14:51:02.206Z"
   },
   {
    "duration": 152,
    "start_time": "2024-09-01T14:51:06.289Z"
   },
   {
    "duration": 151,
    "start_time": "2024-09-01T14:51:18.852Z"
   },
   {
    "duration": 211,
    "start_time": "2024-09-01T14:51:43.890Z"
   },
   {
    "duration": 67,
    "start_time": "2024-09-01T15:11:12.577Z"
   },
   {
    "duration": 332,
    "start_time": "2024-09-01T15:18:11.186Z"
   },
   {
    "duration": 262,
    "start_time": "2024-09-01T15:18:34.132Z"
   },
   {
    "duration": 492,
    "start_time": "2024-09-01T15:19:46.912Z"
   },
   {
    "duration": 506,
    "start_time": "2024-09-01T15:20:26.392Z"
   },
   {
    "duration": 454,
    "start_time": "2024-09-01T15:37:29.943Z"
   },
   {
    "duration": 458,
    "start_time": "2024-09-01T15:37:38.518Z"
   },
   {
    "duration": 927,
    "start_time": "2024-09-01T15:37:51.154Z"
   },
   {
    "duration": 449,
    "start_time": "2024-09-01T15:38:38.311Z"
   },
   {
    "duration": 833,
    "start_time": "2024-09-01T15:39:51.493Z"
   },
   {
    "duration": 161,
    "start_time": "2024-09-01T15:40:12.384Z"
   },
   {
    "duration": 29,
    "start_time": "2024-09-01T15:40:20.946Z"
   },
   {
    "duration": 4,
    "start_time": "2024-09-01T15:42:29.010Z"
   },
   {
    "duration": 254,
    "start_time": "2024-09-01T15:42:36.682Z"
   },
   {
    "duration": 257,
    "start_time": "2024-09-01T15:42:57.473Z"
   },
   {
    "duration": 290,
    "start_time": "2024-09-01T16:12:33.985Z"
   },
   {
    "duration": 108,
    "start_time": "2024-09-01T16:12:47.614Z"
   },
   {
    "duration": 110,
    "start_time": "2024-09-01T16:16:50.283Z"
   },
   {
    "duration": 177,
    "start_time": "2024-09-01T16:21:45.340Z"
   },
   {
    "duration": 6,
    "start_time": "2024-09-01T17:09:56.771Z"
   },
   {
    "duration": 22,
    "start_time": "2024-09-01T17:12:18.439Z"
   },
   {
    "duration": 22,
    "start_time": "2024-09-01T17:12:24.737Z"
   },
   {
    "duration": 133,
    "start_time": "2024-09-01T17:26:02.503Z"
   },
   {
    "duration": 19,
    "start_time": "2024-09-01T17:28:36.198Z"
   },
   {
    "duration": 34,
    "start_time": "2024-09-01T17:29:10.947Z"
   },
   {
    "duration": 137,
    "start_time": "2024-09-01T17:29:25.953Z"
   },
   {
    "duration": 8,
    "start_time": "2024-09-01T18:20:47.664Z"
   },
   {
    "duration": 71,
    "start_time": "2024-09-01T18:21:16.389Z"
   },
   {
    "duration": 70,
    "start_time": "2024-09-01T18:21:18.790Z"
   },
   {
    "duration": 47,
    "start_time": "2024-09-01T18:21:24.529Z"
   },
   {
    "duration": 313,
    "start_time": "2024-09-01T18:22:24.927Z"
   },
   {
    "duration": 171,
    "start_time": "2024-09-01T18:22:30.504Z"
   },
   {
    "duration": 160,
    "start_time": "2024-09-01T18:23:09.566Z"
   },
   {
    "duration": 157,
    "start_time": "2024-09-01T18:23:18.088Z"
   },
   {
    "duration": 141,
    "start_time": "2024-09-01T18:23:24.813Z"
   },
   {
    "duration": 180,
    "start_time": "2024-09-01T18:23:51.433Z"
   },
   {
    "duration": 41,
    "start_time": "2024-09-01T18:32:28.230Z"
   },
   {
    "duration": 3294,
    "start_time": "2024-09-01T18:54:10.837Z"
   },
   {
    "duration": 179,
    "start_time": "2024-09-01T18:54:28.726Z"
   },
   {
    "duration": 269,
    "start_time": "2024-09-01T18:55:16.133Z"
   },
   {
    "duration": 2,
    "start_time": "2024-09-01T18:55:34.525Z"
   },
   {
    "duration": 917,
    "start_time": "2024-09-01T18:55:34.529Z"
   },
   {
    "duration": 184,
    "start_time": "2024-09-01T18:55:35.447Z"
   },
   {
    "duration": 23,
    "start_time": "2024-09-01T18:55:35.632Z"
   },
   {
    "duration": 43,
    "start_time": "2024-09-01T18:55:35.657Z"
   },
   {
    "duration": 169,
    "start_time": "2024-09-01T18:55:35.701Z"
   },
   {
    "duration": 444,
    "start_time": "2024-09-01T18:55:35.872Z"
   },
   {
    "duration": 500,
    "start_time": "2024-09-01T18:55:36.318Z"
   },
   {
    "duration": 357,
    "start_time": "2024-09-01T18:55:36.820Z"
   },
   {
    "duration": 260,
    "start_time": "2024-09-01T18:55:37.179Z"
   },
   {
    "duration": 136,
    "start_time": "2024-09-01T18:55:37.440Z"
   },
   {
    "duration": 177,
    "start_time": "2024-09-01T18:55:37.578Z"
   },
   {
    "duration": 158,
    "start_time": "2024-09-01T18:55:37.758Z"
   },
   {
    "duration": 43,
    "start_time": "2024-09-01T18:55:37.919Z"
   },
   {
    "duration": 28,
    "start_time": "2024-09-01T18:55:37.964Z"
   },
   {
    "duration": 157,
    "start_time": "2024-09-01T18:55:37.993Z"
   },
   {
    "duration": 6,
    "start_time": "2024-09-01T19:10:52.421Z"
   },
   {
    "duration": 9,
    "start_time": "2024-09-01T19:11:52.075Z"
   },
   {
    "duration": 62,
    "start_time": "2024-09-01T19:13:47.831Z"
   },
   {
    "duration": 69,
    "start_time": "2024-09-01T19:13:53.654Z"
   },
   {
    "duration": 27,
    "start_time": "2024-09-01T19:14:00.091Z"
   },
   {
    "duration": 20,
    "start_time": "2024-09-01T19:14:45.058Z"
   },
   {
    "duration": 49,
    "start_time": "2024-09-02T02:32:36.177Z"
   },
   {
    "duration": 760,
    "start_time": "2024-09-02T02:35:44.496Z"
   },
   {
    "duration": 2979,
    "start_time": "2024-09-02T02:35:45.258Z"
   },
   {
    "duration": 147,
    "start_time": "2024-09-02T02:35:48.238Z"
   },
   {
    "duration": 29,
    "start_time": "2024-09-02T02:35:48.387Z"
   },
   {
    "duration": 58,
    "start_time": "2024-09-02T02:35:48.419Z"
   },
   {
    "duration": 145,
    "start_time": "2024-09-02T02:35:48.479Z"
   },
   {
    "duration": 451,
    "start_time": "2024-09-02T02:35:48.626Z"
   },
   {
    "duration": 481,
    "start_time": "2024-09-02T02:35:49.078Z"
   },
   {
    "duration": 283,
    "start_time": "2024-09-02T02:35:49.560Z"
   },
   {
    "duration": 287,
    "start_time": "2024-09-02T02:35:49.845Z"
   },
   {
    "duration": 103,
    "start_time": "2024-09-02T02:35:50.134Z"
   },
   {
    "duration": 182,
    "start_time": "2024-09-02T02:35:50.238Z"
   },
   {
    "duration": 132,
    "start_time": "2024-09-02T02:35:50.421Z"
   },
   {
    "duration": 32,
    "start_time": "2024-09-02T02:35:50.555Z"
   },
   {
    "duration": 35,
    "start_time": "2024-09-02T02:35:50.588Z"
   },
   {
    "duration": 142,
    "start_time": "2024-09-02T02:35:50.624Z"
   },
   {
    "duration": 8,
    "start_time": "2024-09-02T02:35:50.768Z"
   },
   {
    "duration": 24,
    "start_time": "2024-09-02T02:35:50.778Z"
   },
   {
    "duration": 20,
    "start_time": "2024-09-02T02:46:50.455Z"
   },
   {
    "duration": 36,
    "start_time": "2024-09-02T02:47:16.371Z"
   },
   {
    "duration": 23,
    "start_time": "2024-09-02T02:47:19.496Z"
   },
   {
    "duration": 7,
    "start_time": "2024-09-02T02:47:40.622Z"
   },
   {
    "duration": 7,
    "start_time": "2024-09-02T02:47:48.573Z"
   },
   {
    "duration": 40,
    "start_time": "2024-09-02T02:48:16.360Z"
   },
   {
    "duration": 87,
    "start_time": "2024-09-02T02:58:08.527Z"
   },
   {
    "duration": 42,
    "start_time": "2024-09-02T02:58:17.136Z"
   },
   {
    "duration": 344,
    "start_time": "2024-09-02T03:00:51.380Z"
   },
   {
    "duration": 284,
    "start_time": "2024-09-02T03:01:19.348Z"
   },
   {
    "duration": 284,
    "start_time": "2024-09-02T03:03:17.278Z"
   },
   {
    "duration": 284,
    "start_time": "2024-09-02T03:03:19.820Z"
   },
   {
    "duration": 290,
    "start_time": "2024-09-02T03:03:29.805Z"
   },
   {
    "duration": 288,
    "start_time": "2024-09-02T03:03:36.575Z"
   },
   {
    "duration": 90,
    "start_time": "2024-09-02T03:08:19.956Z"
   },
   {
    "duration": 193,
    "start_time": "2024-09-02T03:08:31.171Z"
   },
   {
    "duration": 37,
    "start_time": "2024-09-02T03:08:40.390Z"
   }
  ],
  "kernelspec": {
   "display_name": "Python 3 (ipykernel)",
   "language": "python",
   "name": "python3"
  },
  "language_info": {
   "codemirror_mode": {
    "name": "ipython",
    "version": 3
   },
   "file_extension": ".py",
   "mimetype": "text/x-python",
   "name": "python",
   "nbconvert_exporter": "python",
   "pygments_lexer": "ipython3",
   "version": "3.9.5"
  },
  "toc": {
   "base_numbering": 1,
   "nav_menu": {},
   "number_sections": true,
   "sideBar": true,
   "skip_h1_title": true,
   "title_cell": "Table of Contents",
   "title_sidebar": "Contents",
   "toc_cell": false,
   "toc_position": {},
   "toc_section_display": true,
   "toc_window_display": false
  }
 },
 "nbformat": 4,
 "nbformat_minor": 2
}
